{
 "cells": [
  {
   "cell_type": "code",
   "execution_count": 2,
   "id": "1cc158cf",
   "metadata": {},
   "outputs": [
    {
     "name": "stdout",
     "output_type": "stream",
     "text": [
      "       listing_id        price                 nbhood_full\n",
      "0            2595  225 dollars          Manhattan, Midtown\n",
      "1            3831   89 dollars      Brooklyn, Clinton Hill\n",
      "2            5099  200 dollars      Manhattan, Murray Hill\n",
      "3            5178   79 dollars   Manhattan, Hell's Kitchen\n",
      "4            5238  150 dollars        Manhattan, Chinatown\n",
      "...           ...          ...                         ...\n",
      "25204    36425863  129 dollars  Manhattan, Upper East Side\n",
      "25205    36427429   45 dollars            Queens, Flushing\n",
      "25206    36438336  235 dollars  Staten Island, Great Kills\n",
      "25207    36442252  100 dollars           Bronx, Mott Haven\n",
      "25208    36455809   30 dollars          Brooklyn, Bushwick\n",
      "\n",
      "[25209 rows x 3 columns]\n"
     ]
    }
   ],
   "source": [
    "#Importing the data\n",
    "import numpy as np\n",
    "import pandas as pd\n",
    "import datetime as dt\n",
    "\n",
    "prices = pd.read_csv(\"airbnb_price.csv\")\n",
    "print(prices)"
   ]
  },
  {
   "cell_type": "code",
   "execution_count": 3,
   "id": "a9b198e0",
   "metadata": {},
   "outputs": [
    {
     "name": "stdout",
     "output_type": "stream",
     "text": [
      "       listing_id                                 description        room_type\n",
      "0            2595                       Skylit Midtown Castle  Entire home/apt\n",
      "1            3831             Cozy Entire Floor of Brownstone  Entire home/apt\n",
      "2            5099   Large Cozy 1 BR Apartment In Midtown East  Entire home/apt\n",
      "3            5178             Large Furnished Room Near B'way     private room\n",
      "4            5238          Cute & Cozy Lower East Side 1 bdrm  Entire home/apt\n",
      "...           ...                                         ...              ...\n",
      "25204    36425863  Lovely Privet Bedroom with Privet Restroom     PRIVATE ROOM\n",
      "25205    36427429                    No.2 with queen size bed     PRIVATE ROOM\n",
      "25206    36438336                             Seas The Moment     Private room\n",
      "25207    36442252               1B-1B apartment near by Metro  Entire home/apt\n",
      "25208    36455809     Cozy Private Room in Bushwick, Brooklyn     Private room\n",
      "\n",
      "[25209 rows x 3 columns]\n"
     ]
    }
   ],
   "source": [
    "xls = pd.ExcelFile(\"airbnb_room_type.xlsx\")\n",
    "room_types = xls.parse(0)\n",
    "print(room_types)"
   ]
  },
  {
   "cell_type": "code",
   "execution_count": 13,
   "id": "d0298c54",
   "metadata": {
    "scrolled": true
   },
   "outputs": [
    {
     "name": "stdout",
     "output_type": "stream",
     "text": [
      "       listing_id    host_name   last_review\n",
      "0            2595     Jennifer   May 21 2019\n",
      "1            3831  LisaRoxanne  July 05 2019\n",
      "2            5099        Chris  June 22 2019\n",
      "3            5178     Shunichi  June 24 2019\n",
      "4            5238          Ben  June 09 2019\n",
      "...           ...          ...           ...\n",
      "25204    36425863        Rusaa  July 07 2019\n",
      "25205    36427429         H Ai  July 07 2019\n",
      "25206    36438336          Ben  July 07 2019\n",
      "25207    36442252       Blaine  July 07 2019\n",
      "25208    36455809    Christine  July 08 2019\n",
      "\n",
      "[25209 rows x 3 columns]\n"
     ]
    }
   ],
   "source": [
    "import pandas as pd\n",
    "\n",
    "reviews = pd.read_csv('airbnb_last_review.tsv', sep='\\t')\n",
    "print(reviews)"
   ]
  },
  {
   "cell_type": "code",
   "execution_count": 4,
   "id": "13cd16bd",
   "metadata": {},
   "outputs": [
    {
     "name": "stdout",
     "output_type": "stream",
     "text": [
      "0        225\n",
      "1         89\n",
      "2        200\n",
      "3         79\n",
      "4        150\n",
      "        ... \n",
      "25204    129\n",
      "25205     45\n",
      "25206    235\n",
      "25207    100\n",
      "25208     30\n",
      "Name: price, Length: 25209, dtype: int64\n"
     ]
    }
   ],
   "source": [
    "#Step 2 :Cleaning the price column\n",
    "\n",
    "# Remove the currency from the price column\n",
    "prices['price'] = prices['price'].astype(str)\n",
    "prices[\"price\"]=prices[\"price\"].str.replace(\" dollars\", \"\")\n",
    "\n",
    "# Convert the price column to a float\n",
    "prices[\"price\"]=pd.to_numeric(prices[\"price\"])\n",
    "print(prices[\"price\"])"
   ]
  },
  {
   "cell_type": "code",
   "execution_count": 5,
   "id": "42472018",
   "metadata": {},
   "outputs": [
    {
     "name": "stdout",
     "output_type": "stream",
     "text": [
      "141.82\n"
     ]
    }
   ],
   "source": [
    "#step 3: Removing Outliers\n",
    "\n",
    "# Subset prices for listings costing $0, free_listings\n",
    "free_listings = prices[\"price\"] == 0\n",
    "\n",
    "# Update prices by removing all free listings from prices\n",
    "prices = prices.loc[~free_listings]\n",
    "\n",
    "# Calculate the average price, avg_price\n",
    "avg_price = round(prices[\"price\"].mean(), 2)\n",
    "print(avg_price)"
   ]
  },
  {
   "cell_type": "code",
   "execution_count": 6,
   "id": "c1aa12d0",
   "metadata": {
    "scrolled": false
   },
   "outputs": [
    {
     "name": "stdout",
     "output_type": "stream",
     "text": [
      "4313.61\n",
      "1213.61\n"
     ]
    }
   ],
   "source": [
    "#step 4:Comparing costs to the private rental market\n",
    "\n",
    "# Add a new column to the prices DataFrame, price_per_month\n",
    "prices[\"price_per_month\"] = prices[\"price\"] * 365 / 12\n",
    "\n",
    "# Calculate average_price_per_month\n",
    "average_price_per_month = round(prices[\"price_per_month\"].mean(), 2)\n",
    "print(average_price_per_month)\n",
    "difference = round((average_price_per_month - 3100),2)\n",
    "print(difference)"
   ]
  },
  {
   "cell_type": "code",
   "execution_count": 7,
   "id": "4b11cc19",
   "metadata": {
    "scrolled": true
   },
   "outputs": [
    {
     "name": "stdout",
     "output_type": "stream",
     "text": [
      "entire home/apt    13266\n",
      "private room       11356\n",
      "shared room          587\n",
      "Name: room_type, dtype: int64\n"
     ]
    }
   ],
   "source": [
    "#step 5: Cleaning the room_type column\n",
    "\n",
    "# Convert the room_type column to lowercase\n",
    "room_types[\"room_type\"] = room_types[\"room_type\"].str.lower()\n",
    "\n",
    "# Update the room_type column to category data type\n",
    "room_types[\"room_type\"] = room_types[\"room_type\"].astype(\"category\")\n",
    "\n",
    "# Create the variable room_frequencies\n",
    "room_frequencies = room_types[\"room_type\"].value_counts()\n",
    "print(room_frequencies)"
   ]
  },
  {
   "cell_type": "code",
   "execution_count": 14,
   "id": "315672e1",
   "metadata": {
    "scrolled": true
   },
   "outputs": [
    {
     "name": "stdout",
     "output_type": "stream",
     "text": [
      "2019-07-09\n"
     ]
    }
   ],
   "source": [
    "#  step 6: Working with TimeFrames\n",
    "\n",
    "# Change the data type of the last_review column to datetime\n",
    "reviews[\"last_review\"]=pd.to_datetime(reviews[\"last_review\"])\n",
    "\n",
    "# Create first_reviewed, the earliest review date\n",
    "first_reviewed = reviews[\"last_review\"].dt.date.min()\n",
    "\n",
    "# Create last_reviewed, the most recent review date\n",
    "last_reviewed = reviews[\"last_review\"].dt.date.max()\n",
    "\n",
    "print(last_reviewed)"
   ]
  },
  {
   "cell_type": "code",
   "execution_count": 18,
   "id": "b4f31547",
   "metadata": {},
   "outputs": [
    {
     "name": "stdout",
     "output_type": "stream",
     "text": [
      "       listing_id  price                 nbhood_full  price_per_month  \\\n",
      "0            2595  225.0          Manhattan, Midtown      6843.750000   \n",
      "1            3831   89.0      Brooklyn, Clinton Hill      2707.083333   \n",
      "2            5099  200.0      Manhattan, Murray Hill      6083.333333   \n",
      "3            5178   79.0   Manhattan, Hell's Kitchen      2402.916667   \n",
      "4            5238  150.0        Manhattan, Chinatown      4562.500000   \n",
      "...           ...    ...                         ...              ...   \n",
      "25197    36425863  129.0  Manhattan, Upper East Side      3923.750000   \n",
      "25198    36427429   45.0            Queens, Flushing      1368.750000   \n",
      "25199    36438336  235.0  Staten Island, Great Kills      7147.916667   \n",
      "25200    36442252  100.0           Bronx, Mott Haven      3041.666667   \n",
      "25201    36455809   30.0          Brooklyn, Bushwick       912.500000   \n",
      "\n",
      "                                      description        room_type  \\\n",
      "0                           Skylit Midtown Castle  entire home/apt   \n",
      "1                 Cozy Entire Floor of Brownstone  entire home/apt   \n",
      "2       Large Cozy 1 BR Apartment In Midtown East  entire home/apt   \n",
      "3                 Large Furnished Room Near B'way     private room   \n",
      "4              Cute & Cozy Lower East Side 1 bdrm  entire home/apt   \n",
      "...                                           ...              ...   \n",
      "25197  Lovely Privet Bedroom with Privet Restroom     private room   \n",
      "25198                    No.2 with queen size bed     private room   \n",
      "25199                             Seas The Moment     private room   \n",
      "25200               1B-1B apartment near by Metro  entire home/apt   \n",
      "25201     Cozy Private Room in Bushwick, Brooklyn     private room   \n",
      "\n",
      "         host_name last_review  \n",
      "0         Jennifer  2019-05-21  \n",
      "1      LisaRoxanne  2019-07-05  \n",
      "2            Chris  2019-06-22  \n",
      "3         Shunichi  2019-06-24  \n",
      "4              Ben  2019-06-09  \n",
      "...            ...         ...  \n",
      "25197        Rusaa  2019-07-07  \n",
      "25198         H Ai  2019-07-07  \n",
      "25199          Ben  2019-07-07  \n",
      "25200       Blaine  2019-07-07  \n",
      "25201    Christine  2019-07-08  \n",
      "\n",
      "[25184 rows x 8 columns]\n"
     ]
    }
   ],
   "source": [
    "#step 7: Joining the DataFrames\n",
    "\n",
    "# Merge prices and room_types to create rooms_and_prices\n",
    "rooms_and_prices = prices.merge(room_types, how=\"outer\", on=\"listing_id\")\n",
    "\n",
    "# Merge rooms_and_prices with the reviews DataFrame to create airbnb_merged\n",
    "airbnb_merged = rooms_and_prices.merge(reviews, how=\"outer\", on=\"listing_id\")\n",
    "\n",
    "# Drop missing values from airbnb_merged\n",
    "airbnb_merged.dropna(inplace=True)\n",
    "\n",
    "print(airbnb_merged)"
   ]
  },
  {
   "cell_type": "code",
   "execution_count": 24,
   "id": "be3c7b8f",
   "metadata": {},
   "outputs": [
    {
     "name": "stdout",
     "output_type": "stream",
     "text": [
      "                     sum    mean  median  count\n",
      "borough                                        \n",
      "Manhattan      1898417.0  184.04   149.0  10315\n",
      "Brooklyn       1275250.0  122.02    95.0  10451\n",
      "Queens          320715.0   92.83    70.0   3455\n",
      "Staten Island    22974.0   86.04    71.0    267\n",
      "Bronx            55156.0   79.25    65.0    696\n"
     ]
    }
   ],
   "source": [
    "\n",
    "# Step 8. Analyzing listing prices by NYC borough\n",
    "\n",
    "# Extract information from the nbhood_full column and store as a new column, borough\n",
    "airbnb_merged[\"borough\"] = airbnb_merged[\"nbhood_full\"].str.partition(\",\")[0]\n",
    "\n",
    "# Group by borough and calculate summary statistics\n",
    "boroughs = airbnb_merged.groupby(\"borough\")[\"price\"].agg([\"sum\", \"mean\", \"median\", \"count\"])\n",
    "\n",
    "# Round boroughs to 2 decimal places, and sort by mean in descending order\n",
    "boroughs = boroughs.round(2).sort_values(\"mean\", ascending=False)\n",
    "print(boroughs)"
   ]
  },
  {
   "cell_type": "code",
   "execution_count": 25,
   "id": "ed82ef9c",
   "metadata": {},
   "outputs": [],
   "source": [
    "# Step 9. Price range by borough\n",
    "\n",
    "# Create labels for the price range, label_names\n",
    "label_names = [\"Budget\", \"Average\", \"Expensive\", \"Extravagant\"]\n",
    "\n",
    "# Create the label ranges, ranges\n",
    "ranges = [0, 69, 175, 350, np.inf]\n",
    "\n",
    "# Insert new column, price_range, into DataFrame\n",
    "airbnb_merged[\"price_range\"] = pd.cut(airbnb_merged[\"price\"], bins=ranges, labels=label_names)\n",
    "\n",
    "# Calculate occurence frequencies for each label, prices_by_borough\n",
    "prices_by_borough = airbnb_merged.groupby([\"borough\", \"price_range\"])[\"price_range\"].count()"
   ]
  },
  {
   "cell_type": "code",
   "execution_count": 26,
   "id": "1b8627b4",
   "metadata": {},
   "outputs": [
    {
     "name": "stdout",
     "output_type": "stream",
     "text": [
      "{'avg_price': 141.82, 'average_price_per_month': 4313.61, 'difference': 1213.61, 'room_frequencies': entire home/apt    13266\n",
      "private room       11356\n",
      "shared room          587\n",
      "Name: room_type, dtype: int64, 'first_reviewed': datetime.date(2019, 1, 1), 'last_reviewed': datetime.date(2019, 7, 9), 'prices_by_borough': borough        price_range\n",
      "Bronx          Budget          381\n",
      "               Average         285\n",
      "               Expensive        25\n",
      "               Extravagant       5\n",
      "Brooklyn       Budget         3194\n",
      "               Average        5532\n",
      "               Expensive      1466\n",
      "               Extravagant     259\n",
      "Manhattan      Budget         1148\n",
      "               Average        5285\n",
      "               Expensive      3072\n",
      "               Extravagant     810\n",
      "Queens         Budget         1631\n",
      "               Average        1505\n",
      "               Expensive       291\n",
      "               Extravagant      28\n",
      "Staten Island  Budget          124\n",
      "               Average         123\n",
      "               Expensive        20\n",
      "               Extravagant       0\n",
      "Name: price_range, dtype: int64}\n"
     ]
    }
   ],
   "source": [
    "# Step 10. Storing the final result\n",
    "\n",
    "solution = {'avg_price':avg_price,\n",
    "            'average_price_per_month': average_price_per_month,  \n",
    "            'difference':difference,          \n",
    "            'room_frequencies':room_frequencies, \n",
    "            'first_reviewed': first_reviewed,\n",
    "            'last_reviewed': last_reviewed,\n",
    "            'prices_by_borough':prices_by_borough}\n",
    "print(solution)"
   ]
  },
  {
   "cell_type": "code",
   "execution_count": 29,
   "id": "35fd3993",
   "metadata": {},
   "outputs": [],
   "source": [
    "airbnb_merged.to_excel(r'D:\\airbnb.xlsx', sheet_name='Your sheet name', index=False)"
   ]
  },
  {
   "cell_type": "code",
   "execution_count": null,
   "id": "ecb0fb05",
   "metadata": {},
   "outputs": [],
   "source": []
  }
 ],
 "metadata": {
  "kernelspec": {
   "display_name": "Python 3 (ipykernel)",
   "language": "python",
   "name": "python3"
  },
  "language_info": {
   "codemirror_mode": {
    "name": "ipython",
    "version": 3
   },
   "file_extension": ".py",
   "mimetype": "text/x-python",
   "name": "python",
   "nbconvert_exporter": "python",
   "pygments_lexer": "ipython3",
   "version": "3.10.9"
  }
 },
 "nbformat": 4,
 "nbformat_minor": 5
}
